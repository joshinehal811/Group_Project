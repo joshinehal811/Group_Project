{
  "nbformat": 4,
  "nbformat_minor": 0,
  "metadata": {
    "colab": {
      "provenance": [],
      "gpuType": "V28"
    },
    "kernelspec": {
      "name": "python3",
      "display_name": "Python 3"
    },
    "language_info": {
      "name": "python"
    },
    "accelerator": "TPU"
  },
  "cells": [
    {
      "source": [
        "!pip install lightgbm xgboost catboost\n"
      ],
      "cell_type": "code",
      "metadata": {
        "colab": {
          "base_uri": "https://localhost:8080/"
        },
        "id": "1ckTJ3mI6rf0",
        "outputId": "fda645da-4cee-4b81-b566-99001d7795d2"
      },
      "execution_count": 4,
      "outputs": [
        {
          "output_type": "stream",
          "name": "stdout",
          "text": [
            "Requirement already satisfied: lightgbm in /usr/local/lib/python3.11/dist-packages (4.6.0)\n",
            "Collecting xgboost\n",
            "  Downloading xgboost-2.1.4-py3-none-manylinux_2_28_x86_64.whl.metadata (2.1 kB)\n",
            "Collecting catboost\n",
            "  Downloading catboost-1.2.7-cp311-cp311-manylinux2014_x86_64.whl.metadata (1.2 kB)\n",
            "Requirement already satisfied: numpy>=1.17.0 in /usr/local/lib/python3.11/dist-packages (from lightgbm) (1.26.4)\n",
            "Requirement already satisfied: scipy in /usr/local/lib/python3.11/dist-packages (from lightgbm) (1.13.1)\n",
            "Collecting nvidia-nccl-cu12 (from xgboost)\n",
            "  Downloading nvidia_nccl_cu12-2.25.1-py3-none-manylinux2014_x86_64.manylinux_2_17_x86_64.whl.metadata (1.8 kB)\n",
            "Collecting graphviz (from catboost)\n",
            "  Downloading graphviz-0.20.3-py3-none-any.whl.metadata (12 kB)\n",
            "Requirement already satisfied: matplotlib in /usr/local/lib/python3.11/dist-packages (from catboost) (3.10.0)\n",
            "Requirement already satisfied: pandas>=0.24 in /usr/local/lib/python3.11/dist-packages (from catboost) (2.2.2)\n",
            "Requirement already satisfied: plotly in /usr/local/lib/python3.11/dist-packages (from catboost) (5.24.1)\n",
            "Requirement already satisfied: six in /usr/local/lib/python3.11/dist-packages (from catboost) (1.17.0)\n",
            "Requirement already satisfied: python-dateutil>=2.8.2 in /usr/local/lib/python3.11/dist-packages (from pandas>=0.24->catboost) (2.9.0.post0)\n",
            "Requirement already satisfied: pytz>=2020.1 in /usr/local/lib/python3.11/dist-packages (from pandas>=0.24->catboost) (2025.1)\n",
            "Requirement already satisfied: tzdata>=2022.7 in /usr/local/lib/python3.11/dist-packages (from pandas>=0.24->catboost) (2025.1)\n",
            "Requirement already satisfied: contourpy>=1.0.1 in /usr/local/lib/python3.11/dist-packages (from matplotlib->catboost) (1.3.1)\n",
            "Requirement already satisfied: cycler>=0.10 in /usr/local/lib/python3.11/dist-packages (from matplotlib->catboost) (0.12.1)\n",
            "Requirement already satisfied: fonttools>=4.22.0 in /usr/local/lib/python3.11/dist-packages (from matplotlib->catboost) (4.56.0)\n",
            "Requirement already satisfied: kiwisolver>=1.3.1 in /usr/local/lib/python3.11/dist-packages (from matplotlib->catboost) (1.4.8)\n",
            "Requirement already satisfied: packaging>=20.0 in /usr/local/lib/python3.11/dist-packages (from matplotlib->catboost) (24.2)\n",
            "Requirement already satisfied: pillow>=8 in /usr/local/lib/python3.11/dist-packages (from matplotlib->catboost) (11.1.0)\n",
            "Requirement already satisfied: pyparsing>=2.3.1 in /usr/local/lib/python3.11/dist-packages (from matplotlib->catboost) (3.2.1)\n",
            "Requirement already satisfied: tenacity>=6.2.0 in /usr/local/lib/python3.11/dist-packages (from plotly->catboost) (9.0.0)\n",
            "Downloading xgboost-2.1.4-py3-none-manylinux_2_28_x86_64.whl (223.6 MB)\n",
            "\u001b[2K   \u001b[90m━━━━━━━━━━━━━━━━━━━━━━━━━━━━━━━━━━━━━━━━\u001b[0m \u001b[32m223.6/223.6 MB\u001b[0m \u001b[31m4.4 MB/s\u001b[0m eta \u001b[36m0:00:00\u001b[0m\n",
            "\u001b[?25hDownloading catboost-1.2.7-cp311-cp311-manylinux2014_x86_64.whl (98.7 MB)\n",
            "\u001b[2K   \u001b[90m━━━━━━━━━━━━━━━━━━━━━━━━━━━━━━━━━━━━━━━━\u001b[0m \u001b[32m98.7/98.7 MB\u001b[0m \u001b[31m10.9 MB/s\u001b[0m eta \u001b[36m0:00:00\u001b[0m\n",
            "\u001b[?25hDownloading graphviz-0.20.3-py3-none-any.whl (47 kB)\n",
            "\u001b[2K   \u001b[90m━━━━━━━━━━━━━━━━━━━━━━━━━━━━━━━━━━━━━━━━\u001b[0m \u001b[32m47.1/47.1 kB\u001b[0m \u001b[31m2.6 MB/s\u001b[0m eta \u001b[36m0:00:00\u001b[0m\n",
            "\u001b[?25hDownloading nvidia_nccl_cu12-2.25.1-py3-none-manylinux2014_x86_64.manylinux_2_17_x86_64.whl (201.4 MB)\n",
            "\u001b[2K   \u001b[90m━━━━━━━━━━━━━━━━━━━━━━━━━━━━━━━━━━━━━━━━\u001b[0m \u001b[32m201.4/201.4 MB\u001b[0m \u001b[31m5.2 MB/s\u001b[0m eta \u001b[36m0:00:00\u001b[0m\n",
            "\u001b[?25hInstalling collected packages: nvidia-nccl-cu12, graphviz, xgboost, catboost\n",
            "Successfully installed catboost-1.2.7 graphviz-0.20.3 nvidia-nccl-cu12-2.25.1 xgboost-2.1.4\n"
          ]
        }
      ]
    },
    {
      "cell_type": "code",
      "source": [
        "import joblib\n",
        "import numpy as np\n",
        "import pandas as pd\n",
        "from sklearn.model_selection import StratifiedKFold, train_test_split\n",
        "from sklearn.ensemble import StackingClassifier\n",
        "from sklearn.svm import SVC\n",
        "from sklearn.metrics import accuracy_score\n",
        "from sklearn.preprocessing import LabelEncoder, OneHotEncoder\n",
        "from sklearn.compose import ColumnTransformer\n",
        "from lightgbm import LGBMClassifier\n",
        "from xgboost import XGBClassifier\n",
        "from catboost import CatBoostClassifier\n",
        "from tqdm import tqdm\n",
        "\n",
        "# Load Dataset\n",
        "print(\"Loading dataset...\")\n",
        "data = pd.read_csv('/content/SMOTETomek_data.csv')\n",
        "print(f\"Original dataset shape: {data.shape}\")\n",
        "\n",
        "# Stratified Sampling (40% of data)\n",
        "print(\"Performing stratified sampling (40%)...\")\n",
        "data_sampled, _ = train_test_split(data, test_size=0.6, stratify=data['outcome_group'], random_state=42)\n",
        "print(f\"Sampled dataset shape: {data_sampled.shape}\")\n",
        "\n",
        "# Label Encoding for Specific Columns\n",
        "print(\"Applying label encoding...\")\n",
        "label_encode_cols = ['age_group_intake', 'outcome_group']\n",
        "label_encoders = {}\n",
        "for col in tqdm(label_encode_cols, desc=\"Label Encoding\"):\n",
        "    le = LabelEncoder()\n",
        "    data_sampled[col] = le.fit_transform(data_sampled[col])\n",
        "    label_encoders[col] = le\n",
        "print(\"Label encoding completed.\")\n",
        "\n",
        "# One-Hot Encoding for Categorical Variables\n",
        "print(\"Applying one-hot encoding...\")\n",
        "one_hot_cols = ['animal_type', 'month_of_outcome', 'breed_type', 'color_group', 'intake_condition_group']\n",
        "encoder = ColumnTransformer(\n",
        "    transformers=[('onehot', OneHotEncoder(drop='first', sparse_output=False, handle_unknown='ignore'), one_hot_cols)],\n",
        "    remainder='passthrough'\n",
        ")\n",
        "\n",
        "encoded_data = encoder.fit_transform(data_sampled)\n",
        "encoded_feature_names = encoder.get_feature_names_out()\n",
        "encoded_df = pd.DataFrame(encoded_data, columns=encoded_feature_names, index=data_sampled.index)\n",
        "print(\"One-hot encoding completed.\")\n",
        "\n",
        "# Fix Column Names\n",
        "encoded_df.columns = encoded_df.columns.str.replace('remainder__', '')\n",
        "\n",
        "# Define Target Variable\n",
        "print(\"Defining target variable...\")\n",
        "X = encoded_df.drop(columns=['outcome_group'])  # Ensure 'outcome_group' is present in encoded_df\n",
        "y = encoded_df['outcome_group']\n",
        "\n",
        "# Convert categorical columns to category dtype before splitting\n",
        "print(\"Converting categorical columns...\")\n",
        "for col in tqdm(one_hot_cols, desc=\"Categorical Conversion\"):\n",
        "    if col in X.columns:\n",
        "        X[col] = X[col].astype('category')\n",
        "print(\"Categorical conversion completed.\")\n",
        "\n",
        "# Stratified K-Fold Cross-Validation\n",
        "print(\"Applying Stratified K-Fold splitting...\")\n",
        "skf = StratifiedKFold(n_splits=5, shuffle=True, random_state=42)\n",
        "train_idx, test_idx = next(skf.split(X, y))\n",
        "X_train, X_test = X.iloc[train_idx], X.iloc[test_idx]\n",
        "y_train, y_test = y.iloc[train_idx], y.iloc[test_idx]\n",
        "print(\"Data split completed.\")\n",
        "\n",
        "# Best Model Parameters\n",
        "print(\"Initializing model hyperparameters...\")\n",
        "best_lgbm_params = {'boosting_type': 'gbdt', 'num_leaves': 804, 'learning_rate': 0.20067763503155892, 'feature_fraction': 0.47078436497155735, 'bagging_fraction': 0.8647396028800656, 'bagging_freq': 3, 'min_child_samples': 5}\n",
        "best_xgb_params = {'learning_rate': 0.43924978681535976, 'n_estimators': 173, 'max_depth': 12, 'min_child_weight': 2, 'gamma': 0.050045804877533295, 'subsample': 0.6562434935218406, 'enable_categorical': True}\n",
        "best_catboost_params = {'learning_rate': 0.18366553939455046, 'depth': 9, 'l2_leaf_reg': 1.1598842691079305, 'bagging_temperature': 0.33121618267553227, 'iterations': 783}\n",
        "print(\"Model hyperparameters set.\")\n",
        "\n",
        "# Best Stacking Model Configuration\n",
        "print(\"Initializing base models...\")\n",
        "base_models = [\n",
        "    ('lgbm', LGBMClassifier(**best_lgbm_params, random_state=42, verbose=-1)),\n",
        "    ('xgb', XGBClassifier(**best_xgb_params, random_state=42, verbosity=0)),\n",
        "    ('catboost', CatBoostClassifier(**best_catboost_params, random_seed=42, logging_level='Silent'))\n",
        "]\n",
        "print(\"Base models initialized.\")\n",
        "\n",
        "meta_model = SVC(probability=True, random_state=42)\n",
        "stacking_clf = StackingClassifier(\n",
        "    estimators=base_models,\n",
        "    final_estimator=meta_model,\n",
        "    cv=5,\n",
        "    n_jobs=-1,\n",
        "    stack_method='predict_proba'\n",
        ")\n",
        "\n",
        "# Train Stacking Model\n",
        "print(\"Training the final stacking model...\")\n",
        "with tqdm(total=1, desc=\"Training Stacking Model\") as pbar:\n",
        "    stacking_clf.fit(X_train, y_train)\n",
        "    pbar.update(1)\n",
        "print(\"Model training completed.\")\n",
        "\n",
        "# Evaluate Model\n",
        "print(\"Evaluating model...\")\n",
        "stacking_preds = stacking_clf.predict(X_test)\n",
        "stacking_accuracy = accuracy_score(y_test, stacking_preds)\n",
        "print(f\"Stacking Model Accuracy: {stacking_accuracy:.4f}\")\n",
        "\n",
        "# Save Model\n",
        "print(\"Saving final stacking model...\")\n",
        "model_filename = 'final_stacking_model.pkl'\n",
        "joblib.dump(stacking_clf, model_filename)\n",
        "print(f\"Final Stacking Model Saved as {model_filename}\")\n"
      ],
      "metadata": {
        "colab": {
          "base_uri": "https://localhost:8080/"
        },
        "id": "jwtgwrCoGJTI",
        "outputId": "cef51ac8-37d9-48cc-a5cb-760211e513fc"
      },
      "execution_count": 1,
      "outputs": [
        {
          "output_type": "stream",
          "name": "stdout",
          "text": [
            "Loading dataset...\n",
            "Original dataset shape: (240533, 11)\n",
            "Performing stratified sampling (40%)...\n",
            "Sampled dataset shape: (96213, 11)\n",
            "Applying label encoding...\n"
          ]
        },
        {
          "output_type": "stream",
          "name": "stderr",
          "text": [
            "Label Encoding: 100%|██████████| 2/2 [00:00<00:00, 70.96it/s]\n"
          ]
        },
        {
          "output_type": "stream",
          "name": "stdout",
          "text": [
            "Label encoding completed.\n",
            "Applying one-hot encoding...\n",
            "One-hot encoding completed.\n",
            "Defining target variable...\n",
            "Converting categorical columns...\n"
          ]
        },
        {
          "output_type": "stream",
          "name": "stderr",
          "text": [
            "Categorical Conversion: 100%|██████████| 5/5 [00:00<00:00, 27025.15it/s]\n"
          ]
        },
        {
          "output_type": "stream",
          "name": "stdout",
          "text": [
            "Categorical conversion completed.\n",
            "Applying Stratified K-Fold splitting...\n",
            "Data split completed.\n",
            "Initializing model hyperparameters...\n",
            "Model hyperparameters set.\n",
            "Initializing base models...\n",
            "Base models initialized.\n",
            "Training the final stacking model...\n"
          ]
        },
        {
          "output_type": "stream",
          "name": "stderr",
          "text": [
            "Training Stacking Model: 100%|██████████| 1/1 [10:37<00:00, 637.38s/it]\n"
          ]
        },
        {
          "output_type": "stream",
          "name": "stdout",
          "text": [
            "Model training completed.\n",
            "Evaluating model...\n",
            "Stacking Model Accuracy: 0.8678\n",
            "Saving final stacking model...\n",
            "Final Stacking Model Saved as final_stacking_model.pkl\n"
          ]
        }
      ]
    }
  ]
}